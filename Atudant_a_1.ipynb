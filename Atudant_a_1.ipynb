{
  "nbformat": 4,
  "nbformat_minor": 0,
  "metadata": {
    "colab": {
      "name": "Atudantía-1.ipynb",
      "provenance": []
    },
    "kernelspec": {
      "name": "python3",
      "display_name": "Python 3"
    },
    "language_info": {
      "name": "python"
    }
  },
  "cells": [
    {
      "cell_type": "markdown",
      "source": [
        "<h1>Ayudantía n°1</h1>"
      ],
      "metadata": {
        "id": "sRziX6_XpMdz"
      }
    },
    {
      "cell_type": "markdown",
      "source": [
        "<h2>Ejercicio 1</h2>\n",
        "\n",
        "<h5>Se te entrega una temperatura en grados Fahrenheit y debes imprimir en pantalla la misma temperatura pero en grados celsius.</h5>\n",
        "<h5>$°C = (°F-32)*\\frac{5}{9}$</h5>"
      ],
      "metadata": {
        "id": "S7PxDaRApBs6"
      }
    },
    {
      "cell_type": "code",
      "source": [
        "temp = 95\n",
        "#Tu código va aquí"
      ],
      "metadata": {
        "id": "HzOufK_QpIr0"
      },
      "execution_count": null,
      "outputs": []
    },
    {
      "cell_type": "markdown",
      "source": [
        "<h2>Ejercicio 2</h2>\n",
        "<h5>Teniendo <b>$f(x) = \\frac{1}{2}x+4$</b>, imprime en pantalla las coordenadas:</h5>\n",
        "<ul>\n",
        "  <li>$(0,f(0))$</li>\n",
        "  <li>$(4,f(4))$</li>\n",
        "  <li>$(10,f(10))$</li>\n",
        "</ul>"
      ],
      "metadata": {
        "id": "THB9US02rSlW"
      }
    },
    {
      "cell_type": "code",
      "source": [
        "#Tu código va aquí"
      ],
      "metadata": {
        "id": "U0HBFp1ZthYO"
      },
      "execution_count": null,
      "outputs": []
    },
    {
      "cell_type": "markdown",
      "source": [
        "<h2>Ejercicio 3</h2>\n",
        "\n",
        "<h5>Estás trabajando en una aplicación donde tienes que sugerir un nombre de usuario recomendad el cual consiste en el nombre con mayúscula y la edad (NombreEdad), crea un programa donde le preguntes su nombre, su edad e imprimas su nombre de usuario sugerido.</h5>\n",
        "<h5>Ejemplo:<br>\n",
        "<h5>Ingresa tu nombre: felipe<br>\n",
        "<h5>Ingresa tu edad: 22<br>\n",
        "<h5>Tu nombre de usuario recomendado es Felipe22</h5>"
      ],
      "metadata": {
        "id": "XGcj2E4cusnU"
      }
    },
    {
      "cell_type": "code",
      "source": [
        "#Tu código va aquí"
      ],
      "metadata": {
        "id": "4yuuI8aiwg3N"
      },
      "execution_count": null,
      "outputs": []
    },
    {
      "cell_type": "markdown",
      "source": [
        "<h2>Ejercicio 4</h2>\n",
        "<h5>Se te entrega una lista con los integrantes de un curso.</h5>\n",
        "<ul>\n",
        "<li>Debes agregar al nuevo alumno \"Raul\"</li>\n",
        "<li>Debes imprimir en pantalla cuántos alumnos hay en total en el curso</li>\n",
        "<li>Debes imprimir en pantalla la lista de los alumnos ordenada alfabéticamente</li>\n",
        "</ul>"
      ],
      "metadata": {
        "id": "wJIbW-qe4-Ao"
      }
    },
    {
      "cell_type": "code",
      "source": [
        "alumnos = [\"Tomas\", \"Eduardo\", \"Alejandro\"]\n",
        "#Tu código va aquí"
      ],
      "metadata": {
        "id": "h18ZAbRU5o-v"
      },
      "execution_count": null,
      "outputs": []
    },
    {
      "cell_type": "markdown",
      "source": [
        "<h2>Ejercicio 5</h2>\n",
        "<h5>Un hombre lanza una piedra y su trayectoria está dada por la función $f(x) = -x^{2}+6x$</h5>\n",
        "<ul>\n",
        "  <li>¿Qué altura tomará la piedra cuando haya avanzado 1[m]?</li>\n",
        "  <li>¿y 2[m]?</li>\n",
        "  <li>¿y 3[m]?</li>\n",
        "</ul>"
      ],
      "metadata": {
        "id": "psSI8E8chkTT"
      }
    },
    {
      "cell_type": "code",
      "source": [
        "#Tu código va aquí"
      ],
      "metadata": {
        "id": "zKKRVvqq2qDJ"
      },
      "execution_count": null,
      "outputs": []
    },
    {
      "cell_type": "markdown",
      "source": [
        "<h2>Ejercicio 6</h2>\n",
        "<h5>encuentre las soluciones para una ecuación del tipo $ax^{2}+bx+c = 0$</h5>\n",
        "<ul>\n",
        "  <li>Con a = 1; b = 0; c = -25</li>\n",
        "  <li>Con a = 1; b = 4; c = 1</li>\n",
        "</ul>"
      ],
      "metadata": {
        "id": "8pblbBPZ2xgO"
      }
    },
    {
      "cell_type": "code",
      "source": [
        "#Tu código va aquí"
      ],
      "metadata": {
        "id": "XpUQ_GYgk5TU"
      },
      "execution_count": null,
      "outputs": []
    }
  ]
}